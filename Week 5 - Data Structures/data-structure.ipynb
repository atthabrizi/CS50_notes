{
 "cells": [
  {
   "cell_type": "markdown",
   "metadata": {},
   "source": [
    "# **Data Structures**\n",
    "---"
   ]
  },
  {
   "cell_type": "markdown",
   "metadata": {},
   "source": [
    "**Data structures** is a way of organizing data in a computer memory so that it can be accessed and manipulated easily efficiently. The data structure defines the relationships between the data and the operations that are going to be performed. <br> Data structures are important to design and algorithm to solve a specific kinds of problems.\n",
    "\n",
    "\n",
    "There are different basic and advanced types of data structures that are used in almost every program or software system that has been developed."
   ]
  },
  {
   "cell_type": "markdown",
   "metadata": {},
   "source": [
    "## **Classification of Data Structures**\n",
    "---"
   ]
  },
  {
   "cell_type": "markdown",
   "metadata": {},
   "source": [
    "\n",
    "- **Linear Data Structures** :<br> are types of data that are arranged *linearly* or *sequentially*, basically meaning that the data before are attached to the previous and next data in the list, and each elements have their own unique predecessor and successor (except the first and last). In linear data structure the traversal are seqeuential, meaning that you need to access the elements one by one in a specific order (left to right, right to left).<br>\n",
    "*example:* **arrays, stacks, queues, linked-list, etc.**\n",
    "\n",
    "- **Non-linear Data Structures** :<br> are arranged *non-linear* and *non-sequential*, the elements can have multiple predecessor and/or successor. The traversal are not sequential, we can't traverse all the elements in one single run, it involves moving nodes based on various relationships. <br>\n",
    "*example:* **trees and graphs**"
   ]
  },
  {
   "cell_type": "markdown",
   "metadata": {},
   "source": [
    "## **Types of Data Structures** (Linear)\n",
    "---"
   ]
  },
  {
   "cell_type": "markdown",
   "metadata": {},
   "source": [
    "### **Queues** :<br> \n",
    "The main principle of queues is the **FIFO** *(First in, First Out)* concept, meaning that the first element that are added are the first elements to be removed. <br>\n",
    "Queues are mainly used to perform scenario where tasks needed to be processed in the order they are received, like **task scheduling, print job queue, task management system, etc.**\n",
    "\n",
    "![Alt](images/queues.png)\n",
    "\n",
    "\n",
    "---"
   ]
  },
  {
   "cell_type": "markdown",
   "metadata": {},
   "source": [
    "\n",
    "### **Stack** :<br> \n",
    "On the contrary, a **Stack** uses the **LIFO** *(last in, First Out)* concept, so the elements that are being removed are the last elements that were added to the stack. Operations in stacks are limited to two actions, **push and pop**. <br>\n",
    "Stacks are mainly used in tasks where the access order are crucial, like **tracking function calls, managing undo functionality, parsing expressions, browser history, etc.**\n",
    "\n",
    "\n",
    "![Alt](images/stack.png)\n",
    "\n",
    "---"
   ]
  },
  {
   "cell_type": "markdown",
   "metadata": {},
   "source": [
    "\n",
    "#### **Linked-list** :<br> \n",
    "Unlike arrays, **Linked list** are a data structure where the elements are not stored in a contagious location, but are linked using pointers so the data can still be accesed sequentially. These data will form a series of connected nodes, where each node stores the data and the address of the next node.\n",
    "\n",
    "This are very useful if you need a **dynamic data sizes** (linked list can easily grow and shrunk in the program execution), **an ease of insertation and deletions** (adding or removing nodes in the middle of the list involves updating references, making these operations more efficient compared to arrays).\n",
    "\n",
    "With a linked list, we have the tradeoff of needing to allocate more memory for each value and pointer, in order to spend less time adding values.\n",
    "\n",
    "#### **There 3 types of linked list:**\n",
    "\n",
    "- ***Single Linked*** <br>\n",
    "\n",
    "\n",
    "![Alt](images/singlelink.png)\n",
    "\n",
    "- ***Double Linked*** <br>\n",
    "\n",
    "\n",
    "![Alt](images/doublelink.png)\n",
    "\n",
    "- ***Circular Linked*** <br>\n",
    "\n",
    "\n",
    "![Alt](images/circularlink.png)\n",
    "\n"
   ]
  },
  {
   "cell_type": "markdown",
   "metadata": {},
   "source": [
    "## **Types of Data Structures** (Non-Linear)\n",
    "---"
   ]
  },
  {
   "cell_type": "markdown",
   "metadata": {},
   "source": [
    "\n",
    "### **Binary Search Tree** :<br> \n",
    "\n",
    "**Binary Search Tree (BST)**, are a **node-based binary tree** data structure with specifics characteristics that helps us store data more efficiently such that it can be searched and retreived. \n",
    "\n",
    "- The left subtree of a node contains only nodes with keys lesser than the node’s key.\n",
    "- The right subtree of a node contains only nodes with keys greater than the node’s key.\n",
    "- The left and right subtree each must also be a binary search tree.\n",
    "\n",
    "BST algorithm are used widely for their efficiency in search operations.\n",
    "\n",
    "![Alt](images/binary-search-tree.png)\n",
    "\n",
    "---"
   ]
  },
  {
   "cell_type": "markdown",
   "metadata": {},
   "source": [
    "\n",
    "### **Dictionaries** :<br> \n",
    "\n",
    "A dictionary is a data structure in which data is organized as key-value pairs, allowing for efficient retrieval and storage of information based on unique keys.\n",
    "\n",
    "---"
   ]
  }
 ],
 "metadata": {
  "language_info": {
   "name": "python"
  }
 },
 "nbformat": 4,
 "nbformat_minor": 2
}
