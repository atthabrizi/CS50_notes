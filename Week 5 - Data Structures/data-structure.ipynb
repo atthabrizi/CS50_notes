{
 "cells": [
  {
   "cell_type": "markdown",
   "metadata": {},
   "source": [
    "# **Data Structures**\n",
    "---"
   ]
  },
  {
   "cell_type": "markdown",
   "metadata": {},
   "source": [
    "**Data structures** is a way of organizing data in a computer memory so that it can be accessed and manipulated easily efficiently. The data structure defines the relationships between the data and the operations that are going to be performed. <br> Data structures are important to design and algorithm to solve a specific kinds of problems.\n",
    "\n",
    "\n",
    "There are different basic and advanced types of data structures that are used in almost every program or software system that has been developed."
   ]
  },
  {
   "cell_type": "markdown",
   "metadata": {},
   "source": [
    "## **Classification of Data Structures**\n",
    "---"
   ]
  },
  {
   "cell_type": "markdown",
   "metadata": {},
   "source": [
    "\n",
    "- **Linear Data Structures** :<br> are types of data that are arranged *linearly* or *sequentially*, basically meaning that the data before are attached to the previous and next data in the list, and each elements have their own unique predecessor and successor (except the first and last). In linear data structure the traversal are seqeuential, meaning that you need to access the elements one by one in a specific order (left to right, right to left).<br>\n",
    "*example:* **arrays, stacks, queues, linked-list, etc.**\n",
    "\n",
    "- **Non-linear Data Structures** :<br> are arranged *non-linear* and *non-sequential*, the elements can have multiple predecessor and/or successor. The traversal are not sequential, we can't traverse all the elements in one single run, it involves moving nodes based on various relationships. <br>\n",
    "*example:* **trees and graphs**"
   ]
  },
  {
   "cell_type": "markdown",
   "metadata": {},
   "source": [
    "## **Types of Data Structures**\n",
    "---"
   ]
  },
  {
   "cell_type": "markdown",
   "metadata": {},
   "source": [
    "### **Queues** :<br> \n",
    "The main principle of queues is the **FIFO** *(First in, First Out)* concept, meaning that the first element that are added are the first elements to be removed. <br>\n",
    "Queues are mainly used to perform scenario where tasks needed to be processed in the order they are received, like **task scheduling, print job queue, task management system, etc.**\n",
    "\n",
    "![Alt](images/queues.png)\n"
   ]
  },
  {
   "cell_type": "markdown",
   "metadata": {},
   "source": [
    "\n",
    "### **Stack** :<br> \n",
    "On the contrary, a **Stack** uses the **LIFO** *(last in, First Out)* concept, so the elements that are being removed are the last elements that were added to the stack. Operations in stacks are limited to two actions, **push and pop**. <br>\n",
    "Stacks are mainly used in tasks where the access order are crucial, like **tracking function calls, managing undo functionality, parsing expressions, browser history, etc.**\n",
    "\n",
    "\n",
    "![Alt](images/stack.png)\n"
   ]
  },
  {
   "cell_type": "markdown",
   "metadata": {},
   "source": [
    "\n",
    "#### **Linked-list** :<br> \n",
    "Unlike arrays, **Linked list** are a data structure where the elements are not stored in a contagious location, but are linked using pointers so the data can still be accesed sequentially. These data will form a series of connected nodes, where each node stores the data and the address of the next node.\n",
    "\n",
    "\n",
    "![Alt](images/linkedlist.png)\n"
   ]
  }
 ],
 "metadata": {
  "language_info": {
   "name": "python"
  }
 },
 "nbformat": 4,
 "nbformat_minor": 2
}
